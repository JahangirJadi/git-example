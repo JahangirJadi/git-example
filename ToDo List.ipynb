{
 "cells": [
  {
   "cell_type": "code",
   "execution_count": 6,
   "metadata": {},
   "outputs": [],
   "source": [
    "tasksToPerform = ['pray', 'jogging', 'exercise', 'breakfast', 'study', 'purchase groceries', 'gyming']\n",
    "performedTasks=[]\n",
    "remainingTasks = []"
   ]
  },
  {
   "cell_type": "code",
   "execution_count": null,
   "metadata": {},
   "outputs": [],
   "source": []
  },
  {
   "cell_type": "code",
   "execution_count": 4,
   "metadata": {},
   "outputs": [
    {
     "data": {
      "text/plain": [
       "7"
      ]
     },
     "execution_count": 4,
     "metadata": {},
     "output_type": "execute_result"
    }
   ],
   "source": [
    "len(tasksToPerform)"
   ]
  },
  {
   "cell_type": "code",
   "execution_count": null,
   "metadata": {},
   "outputs": [
    {
     "name": "stdout",
     "output_type": "stream",
     "text": [
      "Press 1 to display the list of tasks of today\n",
      "Press 2 to display the completed tasks\n",
      "Press 3 to display the remaining tasks\n",
      "Press 4 to enter the tasks you have done\n",
      "\n",
      "\n",
      "1\n",
      "['pray', 'jogging', 'exercise', 'breakfast', 'study', 'purchase groceries', 'gyming']\n",
      "Press 1 to display the list of tasks of today\n",
      "Press 2 to display the completed tasks\n",
      "Press 3 to display the remaining tasks\n",
      "Press 4 to enter the tasks you have done\n",
      "\n",
      "\n",
      "4\n",
      "Enter the name of the task you have done with correct spell\n",
      "pray\n",
      "Press 1 to display the list of tasks of today\n",
      "Press 2 to display the completed tasks\n",
      "Press 3 to display the remaining tasks\n",
      "Press 4 to enter the tasks you have done\n",
      "\n",
      "\n",
      "2\n",
      "Following tasks have been completed\n",
      " ['pray']\n",
      "Press 1 to display the list of tasks of today\n",
      "Press 2 to display the completed tasks\n",
      "Press 3 to display the remaining tasks\n",
      "Press 4 to enter the tasks you have done\n",
      "\n",
      "\n",
      "4\n",
      "Enter the name of the task you have done with correct spell\n",
      "gyming\n",
      "Press 1 to display the list of tasks of today\n",
      "Press 2 to display the completed tasks\n",
      "Press 3 to display the remaining tasks\n",
      "Press 4 to enter the tasks you have done\n",
      "\n",
      "\n",
      "4\n",
      "Enter the name of the task you have done with correct spell\n",
      "study\n",
      "Press 1 to display the list of tasks of today\n",
      "Press 2 to display the completed tasks\n",
      "Press 3 to display the remaining tasks\n",
      "Press 4 to enter the tasks you have done\n",
      "\n",
      "\n",
      "1\n",
      "['pray', 'jogging', 'exercise', 'breakfast', 'study', 'purchase groceries', 'gyming']\n",
      "Press 1 to display the list of tasks of today\n",
      "Press 2 to display the completed tasks\n",
      "Press 3 to display the remaining tasks\n",
      "Press 4 to enter the tasks you have done\n",
      "\n",
      "\n",
      "2\n",
      "Following tasks have been completed\n",
      " ['pray', 'gyming', 'study']\n",
      "Press 1 to display the list of tasks of today\n",
      "Press 2 to display the completed tasks\n",
      "Press 3 to display the remaining tasks\n",
      "Press 4 to enter the tasks you have done\n",
      "\n",
      "\n",
      "3\n",
      "Following tasks are remaining\n",
      " ['jogging', 'exercise', 'breakfast', 'purchase groceries']\n"
     ]
    }
   ],
   "source": [
    "tasksToPerform = ['pray', 'jogging', 'exercise', 'breakfast', 'study', 'purchase groceries', 'gyming']\n",
    "performedTasks=[]\n",
    "remainingTasks = tasksToPerform.copy() \n",
    "\n",
    "userInput=123\n",
    "\n",
    "while userInput !=0:\n",
    "\n",
    "    userInput = int(input(\"Press 1 to display the list of tasks of today\\nPress 2 to display the completed tasks\\nPress 3 to display the remaining tasks\\nPress 4 to enter the tasks you have done\\n\\n\\n\"))\n",
    "# print(userInput)\n",
    "    if userInput==1:\n",
    "        print(tasksToPerform)\n",
    "    elif userInput == 2:\n",
    "        if len(performedTasks)>0:\n",
    "            print(f\"Following tasks have been completed\\n {performedTasks}\")\n",
    "        else:\n",
    "            print(\"No tasks have been performed yet\")\n",
    "    elif userInput == 3:\n",
    "        \n",
    "        print(f\"Following tasks are remaining\\n {remainingTasks}\")\n",
    "        \n",
    "    elif userInput == 4:\n",
    "        taskInput=input(\"Enter the name of the task you have done with correct spell\\n\")\n",
    "        \n",
    "        performedTasks.append(taskInput)\n",
    "        remainingTasks.remove(taskInput)\n",
    "        \n",
    "        \n",
    "        "
   ]
  },
  {
   "cell_type": "code",
   "execution_count": null,
   "metadata": {},
   "outputs": [],
   "source": []
  }
 ],
 "metadata": {
  "kernelspec": {
   "display_name": "Python 3",
   "language": "python",
   "name": "python3"
  }
 },
 "nbformat": 4,
 "nbformat_minor": 2
}

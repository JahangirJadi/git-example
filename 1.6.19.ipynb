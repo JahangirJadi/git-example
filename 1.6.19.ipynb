{
 "cells": [
  {
   "cell_type": "markdown",
   "metadata": {},
   "source": [
    "# Loops"
   ]
  },
  {
   "cell_type": "code",
   "execution_count": null,
   "metadata": {},
   "outputs": [],
   "source": []
  },
  {
   "cell_type": "code",
   "execution_count": 16,
   "metadata": {},
   "outputs": [],
   "source": [
    "students = [\"Jahangir\", \"AHmed\", \"waqas\", \"arbab\", \"omer\", \"raza\", \"shaikh\"]\n"
   ]
  },
  {
   "cell_type": "code",
   "execution_count": 17,
   "metadata": {},
   "outputs": [
    {
     "name": "stdout",
     "output_type": "stream",
     "text": [
      "Jahangir\n",
      "AHmed\n",
      "waqas\n",
      "arbab\n",
      "omer\n",
      "raza\n",
      "shaikh\n"
     ]
    }
   ],
   "source": [
    "for student in students:\n",
    "    print(student)"
   ]
  },
  {
   "cell_type": "code",
   "execution_count": 18,
   "metadata": {},
   "outputs": [
    {
     "name": "stdout",
     "output_type": "stream",
     "text": [
      "Jahangir andar ajao\n",
      "AHmed andar ajao\n",
      "waqas bahir jao\n",
      "arbab andar ajao\n",
      "omer andar ajao\n",
      "raza andar ajao\n",
      "shaikh andar ajao\n"
     ]
    }
   ],
   "source": [
    "for student in students:\n",
    "    if student == \"waqas\":\n",
    "        print(f\"{student} bahir jao\")\n",
    "    else:\n",
    "        print(f\"{student} andar ajao\")"
   ]
  },
  {
   "cell_type": "code",
   "execution_count": 20,
   "metadata": {},
   "outputs": [
    {
     "name": "stdout",
     "output_type": "stream",
     "text": [
      "P a k i s t a n "
     ]
    }
   ],
   "source": [
    "for a in \"Pakistan\":\n",
    "    print(a, end = ' ')"
   ]
  },
  {
   "cell_type": "code",
   "execution_count": 21,
   "metadata": {},
   "outputs": [
    {
     "name": "stdout",
     "output_type": "stream",
     "text": [
      "0123456789"
     ]
    }
   ],
   "source": [
    "for num in range(10):\n",
    "    print(num, end = ' ')"
   ]
  },
  {
   "cell_type": "code",
   "execution_count": 58,
   "metadata": {},
   "outputs": [
    {
     "name": "stdout",
     "output_type": "stream",
     "text": [
      "Enter a number to generate it's table:5\n",
      "5 X 1 = 5\n",
      "5 X 2 = 10\n",
      "5 X 3 = 15\n",
      "5 X 4 = 20\n",
      "5 X 5 = 25\n",
      "5 X 6 = 30\n",
      "5 X 7 = 35\n",
      "5 X 8 = 40\n",
      "5 X 9 = 45\n",
      "5 X 10 = 50\n"
     ]
    }
   ],
   "source": [
    "userInput = int(input(\"Enter a number to generate it's table:\"))\n",
    "for x in range(1,11):\n",
    "    print(f'{userInput} X {x} = {userInput*x}')"
   ]
  },
  {
   "cell_type": "code",
   "execution_count": 38,
   "metadata": {},
   "outputs": [
    {
     "name": "stdout",
     "output_type": "stream",
     "text": [
      "1\n",
      "3\n",
      "5\n",
      "7\n",
      "9\n"
     ]
    }
   ],
   "source": [
    "for x in range(1,11,2):\n",
    "    print(x)"
   ]
  },
  {
   "cell_type": "code",
   "execution_count": 42,
   "metadata": {},
   "outputs": [
    {
     "name": "stdout",
     "output_type": "stream",
     "text": [
      "25 24 23 22 21 20 19 18 17 16 15 14 13 12 11 10 9 8 7 6 5 4 3 2 1 "
     ]
    }
   ],
   "source": [
    "for x in range(25, 0, -1):\n",
    "    print(x, end = \" \")"
   ]
  },
  {
   "cell_type": "code",
   "execution_count": 43,
   "metadata": {},
   "outputs": [
    {
     "name": "stdout",
     "output_type": "stream",
     "text": [
      "Enter a number to generate it's table:5\n",
      "5 X 1 = 5\n",
      "5 X 3 = 15\n",
      "5 X 5 = 25\n",
      "5 X 7 = 35\n",
      "5 X 9 = 45\n"
     ]
    }
   ],
   "source": [
    "#Continue\n",
    "userInput = int(input(\"Enter a number to generate it's table:\"))\n",
    "for x in range(1,11):\n",
    "    if x%2 == 0:\n",
    "        continue\n",
    "    else:\n",
    "        print(f'{userInput} X {x} = {userInput*x}')"
   ]
  },
  {
   "cell_type": "code",
   "execution_count": 44,
   "metadata": {},
   "outputs": [
    {
     "name": "stdout",
     "output_type": "stream",
     "text": [
      "Enter a number to generate it's table:2\n",
      "2 X 1 = 2\n"
     ]
    }
   ],
   "source": [
    "#break\n",
    "userInput = int(input(\"Enter a number to generate it's table:\"))\n",
    "for x in range(1,11):\n",
    "    if x%2 == 0:\n",
    "        break\n",
    "    else:\n",
    "        print(f'{userInput} X {x} = {userInput*x}')"
   ]
  },
  {
   "cell_type": "code",
   "execution_count": null,
   "metadata": {},
   "outputs": [
    {
     "name": "stdout",
     "output_type": "stream",
     "text": [
      "Enter your name:4\n"
     ]
    }
   ],
   "source": [
    "bestfriends = []\n",
    "friends = []\n",
    "for num in range(0,6):\n",
    "    nameInput= \" \"\n",
    "   \n",
    "    nameInput = input(\"Enter your name:\")\n",
    "    \n",
    "    if nameInput.startswith('a') or nameInput.startswith('s') or nameInput.startswith('d'):\n",
    "        bestfriends.append(nameInput)\n",
    "    else:\n",
    "        friends.append(nameInput)\n",
    "    \n",
    "print(f\"Best Friends:{bestfriends}\")\n",
    "print(f\"Friends:{friends}\")"
   ]
  },
  {
   "cell_type": "markdown",
   "metadata": {},
   "source": [
    "# Nested For Loop\n"
   ]
  },
  {
   "cell_type": "code",
   "execution_count": 54,
   "metadata": {},
   "outputs": [
    {
     "name": "stdout",
     "output_type": "stream",
     "text": [
      "1 J\n",
      "1 a\n",
      "1 d\n",
      "1 i\n",
      "2 J\n",
      "2 a\n",
      "2 d\n",
      "2 i\n",
      "3 J\n",
      "3 a\n",
      "3 d\n",
      "3 i\n"
     ]
    }
   ],
   "source": [
    "for a in [1,2,3]:\n",
    "    for b in \"Jadi\":\n",
    "        print(a,b)"
   ]
  },
  {
   "cell_type": "code",
   "execution_count": 5,
   "metadata": {},
   "outputs": [
    {
     "name": "stdout",
     "output_type": "stream",
     "text": [
      "1 X 1 = 1\n",
      "1 X 2 = 2\n",
      "1 X 3 = 3\n",
      "1 X 4 = 4\n",
      "1 X 5 = 5\n",
      "\n",
      "\n",
      "2 X 1 = 2\n",
      "2 X 2 = 4\n",
      "2 X 3 = 6\n",
      "2 X 4 = 8\n",
      "2 X 5 = 10\n",
      "\n",
      "\n",
      "3 X 1 = 3\n",
      "3 X 2 = 6\n",
      "3 X 3 = 9\n",
      "3 X 4 = 12\n",
      "3 X 5 = 15\n",
      "\n",
      "\n",
      "4 X 1 = 4\n",
      "4 X 2 = 8\n",
      "4 X 3 = 12\n",
      "4 X 4 = 16\n",
      "4 X 5 = 20\n",
      "\n",
      "\n",
      "5 X 1 = 5\n",
      "5 X 2 = 10\n",
      "5 X 3 = 15\n",
      "5 X 4 = 20\n",
      "5 X 5 = 25\n",
      "\n",
      "\n"
     ]
    }
   ],
   "source": [
    "\n",
    "for x in range(1,6):\n",
    "    \n",
    "    for y in range(1,6):\n",
    "         print(f'{x} X {y} = {x*y}')\n",
    "            \n",
    "    print(\"\\n\")\n",
    "        "
   ]
  },
  {
   "cell_type": "markdown",
   "metadata": {},
   "source": [
    "# List Comprehension"
   ]
  },
  {
   "cell_type": "code",
   "execution_count": 7,
   "metadata": {},
   "outputs": [
    {
     "data": {
      "text/plain": [
       "[1, 4, 9, 16, 25, 36, 49, 64, 81]"
      ]
     },
     "execution_count": 7,
     "metadata": {},
     "output_type": "execute_result"
    }
   ],
   "source": [
    "a= [1,2,3,4,5,6,7,8,9]\n",
    "squares = []\n",
    "for num in a:\n",
    "    squares.append(num**2)\n",
    "squares"
   ]
  },
  {
   "cell_type": "code",
   "execution_count": 8,
   "metadata": {},
   "outputs": [
    {
     "data": {
      "text/plain": [
       "[1, 4, 9, 16, 25, 36, 49, 64, 81]"
      ]
     },
     "execution_count": 8,
     "metadata": {},
     "output_type": "execute_result"
    }
   ],
   "source": [
    "[num**2 for num in range(1,10)]"
   ]
  },
  {
   "cell_type": "code",
   "execution_count": 9,
   "metadata": {},
   "outputs": [
    {
     "data": {
      "text/plain": [
       "[25, 36, 49, 64, 81]"
      ]
     },
     "execution_count": 9,
     "metadata": {},
     "output_type": "execute_result"
    }
   ],
   "source": [
    "[num**2 for num in range(1,10) if num>4]"
   ]
  },
  {
   "cell_type": "code",
   "execution_count": null,
   "metadata": {},
   "outputs": [],
   "source": []
  }
 ],
 "metadata": {
  "kernelspec": {
   "display_name": "Python 3",
   "language": "python",
   "name": "python3"
  },
  "language_info": {
   "codemirror_mode": {
    "name": "ipython",
    "version": 3
   },
   "file_extension": ".py",
   "mimetype": "text/x-python",
   "name": "python",
   "nbconvert_exporter": "python",
   "pygments_lexer": "ipython3",
   "version": "3.6.5"
  }
 },
 "nbformat": 4,
 "nbformat_minor": 2
}

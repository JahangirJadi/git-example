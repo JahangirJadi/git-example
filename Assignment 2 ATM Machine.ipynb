{
 "cells": [
  {
   "cell_type": "markdown",
   "metadata": {},
   "source": [
    "# Assignment 2: ATM Machine\n"
   ]
  },
  {
   "cell_type": "code",
   "execution_count": 1,
   "metadata": {},
   "outputs": [
    {
     "name": "stdout",
     "output_type": "stream",
     "text": [
      "Press 1 to withdraw\n",
      "Press 2 to check current balance\n",
      "Press 3 to add cash\n",
      "Press 0 to exit\n",
      "1\n",
      "Enter amount:2350\n",
      "Rs.2350 successfully withdrawn.\n",
      "Your new balance is Rs.22650\n",
      "Press 1 to withdraw\n",
      "Press 2 to check current balance\n",
      "Press 3 to add cash\n",
      "Press 0 to exit\n",
      "2\n",
      "Your current balance is Rs.22650\n",
      "Press 1 to withdraw\n",
      "Press 2 to check current balance\n",
      "Press 3 to add cash\n",
      "Press 0 to exit\n",
      "2\n",
      "Your current balance is Rs.22650\n",
      "Press 1 to withdraw\n",
      "Press 2 to check current balance\n",
      "Press 3 to add cash\n",
      "Press 0 to exit\n",
      "0\n",
      "*************************\n",
      "Thank you. Do visit again\n",
      "*************************\n"
     ]
    }
   ],
   "source": [
    "currentbal = 25000;\n",
    "button=10\n",
    "while button!=0:\n",
    "    button = int(input(\"Press 1 to withdraw\\nPress 2 to check current balance\\nPress 3 to add cash\\nPress 0 to exit\\n\"))\n",
    "\n",
    "    if button==1:\n",
    "        withdraw_amount = int(input(\"Enter amount:\"))\n",
    "        if withdraw_amount >currentbal:\n",
    "            print(f\"You don't have Rs.{withdraw_amount} available in your account\")\n",
    "        elif withdraw_amount<100:\n",
    "            print(\"Minimum withdrawal amount should be atleast Rs.100\")\n",
    "        elif withdraw_amount>25000:\n",
    "            print(\"You can't withdraw more than 25000\")\n",
    "        else:\n",
    "            currentbal-=withdraw_amount\n",
    "            print(f\"Rs.{withdraw_amount} successfully withdrawn.\\nYour new balance is Rs.{currentbal}\")\n",
    "    if button==2:\n",
    "        print(f\"Your current balance is Rs.{currentbal}\")\n",
    "    if button==3:\n",
    "        depositCash = int(input(\"Enter amount of cash you want to add:\"))\n",
    "        if depositCash>=100:\n",
    "            currentbal+=depositCash\n",
    "            print(f\"Rs.{depositCash} is successfully added in your account\\n Your new balance is Rs.{currentbal}\")\n",
    "        elif depositCash<100:\n",
    "            print(\"Minimum amount should be Rs.100\")\n",
    "    if button==0:\n",
    "        print(\"*************************\\nThank you. Do visit again\\n*************************\")\n"
   ]
  },
  {
   "cell_type": "code",
   "execution_count": null,
   "metadata": {},
   "outputs": [],
   "source": []
  }
 ],
 "metadata": {
  "kernelspec": {
   "display_name": "Python 3",
   "language": "python",
   "name": "python3"
  },
  "language_info": {
   "codemirror_mode": {
    "name": "ipython",
    "version": 3
   },
   "file_extension": ".py",
   "mimetype": "text/x-python",
   "name": "python",
   "nbconvert_exporter": "python",
   "pygments_lexer": "ipython3",
   "version": "3.6.5"
  }
 },
 "nbformat": 4,
 "nbformat_minor": 2
}

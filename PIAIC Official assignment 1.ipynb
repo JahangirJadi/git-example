{
 "cells": [
  {
   "cell_type": "markdown",
   "metadata": {},
   "source": [
    "## 1. Calculate Area of a Circle"
   ]
  },
  {
   "cell_type": "markdown",
   "metadata": {},
   "source": [
    "#### Write a Python program which accepts the radius of a circle from the user and compute the area.\n",
    "###### Program Console Sample Output 1:\n",
    "###### Input Radius: 0.5\n",
    "###### Area of Circle with radius 0.5 is 0.7853981634"
   ]
  },
  {
   "cell_type": "code",
   "execution_count": 1,
   "metadata": {},
   "outputs": [],
   "source": [
    "pi = 3.14159"
   ]
  },
  {
   "cell_type": "code",
   "execution_count": 9,
   "metadata": {},
   "outputs": [
    {
     "name": "stdout",
     "output_type": "stream",
     "text": [
      "Enter the value of radius:0.5\n",
      "Area is 0.7853975.\n"
     ]
    }
   ],
   "source": [
    "radius = float(input(\"Enter the value of radius:\"))\n",
    "Area = pi * (radius**2)\n",
    "print(f\"Area is {Area}.\")\n"
   ]
  },
  {
   "cell_type": "code",
   "execution_count": null,
   "metadata": {},
   "outputs": [],
   "source": []
  },
  {
   "cell_type": "markdown",
   "metadata": {},
   "source": [
    "## 2. Check Number either positive, negative or zero"
   ]
  },
  {
   "cell_type": "markdown",
   "metadata": {},
   "source": [
    "#### Write a Python program to check if a number is positive, negative or zero\n",
    "###### Program Console Sample Output 1:\n",
    "###### Enter Number: -1\n",
    "##### Negative Number Entered\n",
    "###### Program Console Sample Output 2:\n",
    "##### Integer: 3\n",
    "##### Positive Number Entered\n",
    "###### Program Console Sample Output 3:\n",
    "##### Integer: 0\n",
    "###### Zero Entered"
   ]
  },
  {
   "cell_type": "code",
   "execution_count": 6,
   "metadata": {},
   "outputs": [
    {
     "name": "stdout",
     "output_type": "stream",
     "text": [
      "Enter a no to check if a number is positive, negative or zero:-1\n",
      "Negative Number Entered\n"
     ]
    }
   ],
   "source": [
    "inputNum = int(input(\"Enter a no to check if a number is positive, negative or zero:\"))\n",
    "if inputNum == 0:\n",
    "    print(\"Zero Entered\")\n",
    "elif inputNum <0:\n",
    "    print(\"Negative Number Entered\")\n",
    "else:\n",
    "    print(\"Positive Number Entered\")"
   ]
  },
  {
   "cell_type": "code",
   "execution_count": 7,
   "metadata": {},
   "outputs": [
    {
     "name": "stdout",
     "output_type": "stream",
     "text": [
      "Enter a no to check if a number is positive, negative or zero:3\n",
      "Positive Number Entered\n"
     ]
    }
   ],
   "source": [
    "inputNum = int(input(\"Enter a no to check if a number is positive, negative or zero:\"))\n",
    "if inputNum == 0:\n",
    "    print(\"Zero Entered\")\n",
    "elif inputNum <0:\n",
    "    print(\"Negative Number Entered\")\n",
    "else:\n",
    "    print(\"Positive Number Entered\")"
   ]
  },
  {
   "cell_type": "code",
   "execution_count": 8,
   "metadata": {},
   "outputs": [
    {
     "name": "stdout",
     "output_type": "stream",
     "text": [
      "Enter a no to check if a number is positive, negative or zero:0\n",
      "Zero Entered\n"
     ]
    }
   ],
   "source": [
    "inputNum = int(input(\"Enter a no to check if a number is positive, negative or zero:\"))\n",
    "if inputNum == 0:\n",
    "    print(\"Zero Entered\")\n",
    "elif inputNum <0:\n",
    "    print(\"Negative Number Entered\")\n",
    "else:\n",
    "    print(\"Positive Number Entered\")"
   ]
  },
  {
   "cell_type": "code",
   "execution_count": null,
   "metadata": {},
   "outputs": [],
   "source": []
  },
  {
   "cell_type": "markdown",
   "metadata": {},
   "source": [
    "## 3. Divisibility Check of two numbers"
   ]
  },
  {
   "cell_type": "markdown",
   "metadata": {},
   "source": [
    "#### Write a Python program to check whether a number is completely divisible by another number. Accept two integer values form the user\n",
    "##### Program Console Sample Output 1:\n",
    "###### Enter numerator: 4\n",
    "###### Enter Denominator: 2\n",
    "##### Number 4 is Completely divisible by 2\n",
    "###### Program Console Sample Output 2:\n",
    "##### Enter numerator: 7\n",
    "\n",
    "##### Enter Denominator: 4\n",
    "###### Number 7 is not Completely divisible by 4"
   ]
  },
  {
   "cell_type": "code",
   "execution_count": 4,
   "metadata": {},
   "outputs": [
    {
     "name": "stdout",
     "output_type": "stream",
     "text": [
      "Enter 1st integer:4\n",
      "Enter 2nd integer:2\n",
      "Number 4 is completely divisible by 2\n"
     ]
    }
   ],
   "source": [
    "int1 = int(input(\"Enter 1st integer:\"))\n",
    "int2 = int(input(\"Enter 2nd integer:\"))\n",
    "if int1 % int2 ==0:\n",
    "    print(f\"Number {int1} is completely divisible by {int2}\")\n",
    "else:\n",
    "    print(f\"Number {int1} is not completely divisible by {int2}\")\n"
   ]
  },
  {
   "cell_type": "code",
   "execution_count": 14,
   "metadata": {},
   "outputs": [
    {
     "name": "stdout",
     "output_type": "stream",
     "text": [
      "Enter 1st integer:7\n",
      "Enter 2nd integer:4\n",
      "Number 7 is not completely divisible by 4\n"
     ]
    }
   ],
   "source": [
    "int1 = int(input(\"Enter 1st integer:\"))\n",
    "int2 = int(input(\"Enter 2nd integer:\"))\n",
    "if int1 % int2 ==0:\n",
    "    print(f\"Number {int1} is completely divisible by {int2}\")\n",
    "else:\n",
    "    print(f\"Number {int1} is not completely divisible by {int2}\")"
   ]
  },
  {
   "cell_type": "code",
   "execution_count": null,
   "metadata": {},
   "outputs": [],
   "source": []
  },
  {
   "cell_type": "code",
   "execution_count": null,
   "metadata": {},
   "outputs": [],
   "source": []
  },
  {
   "cell_type": "code",
   "execution_count": null,
   "metadata": {},
   "outputs": [],
   "source": []
  },
  {
   "cell_type": "code",
   "execution_count": null,
   "metadata": {},
   "outputs": [],
   "source": []
  },
  {
   "cell_type": "markdown",
   "metadata": {},
   "source": [
    "## 4. Calculate Volume of a sphere"
   ]
  },
  {
   "cell_type": "markdown",
   "metadata": {},
   "source": [
    "##### Write a Python program to get the volume of a sphere, please take the radius as input from user"
   ]
  },
  {
   "cell_type": "markdown",
   "metadata": {},
   "source": [
    "##### Program Console Output:\n",
    "##### Enter Radius of Sphere: 1\n",
    "###### Volume of the Sphere with Radius 1 is 4.18"
   ]
  },
  {
   "cell_type": "code",
   "execution_count": 19,
   "metadata": {},
   "outputs": [
    {
     "name": "stdout",
     "output_type": "stream",
     "text": [
      "Enter radius to calculate volume:1\n",
      "Volume is 4.188786666666666\n"
     ]
    }
   ],
   "source": [
    "pi = 3.14159\n",
    "radius = float(input(\"Enter radius to calculate volume:\"))\n",
    "volume = 4/3*(pi*radius**3)\n",
    "print(f\"Volume is {volume}\")"
   ]
  },
  {
   "cell_type": "code",
   "execution_count": null,
   "metadata": {},
   "outputs": [],
   "source": []
  },
  {
   "cell_type": "code",
   "execution_count": null,
   "metadata": {},
   "outputs": [],
   "source": []
  },
  {
   "cell_type": "code",
   "execution_count": null,
   "metadata": {},
   "outputs": [],
   "source": []
  },
  {
   "cell_type": "code",
   "execution_count": null,
   "metadata": {},
   "outputs": [],
   "source": []
  },
  {
   "cell_type": "markdown",
   "metadata": {},
   "source": [
    "## 5. Copy string n times\n",
    "#### Write a Python program to get a string which is n (non-negative integer) copies of a given string.\n",
    "##### Program Console Output:\n",
    "##### Enter String: Hi\n",
    "###### How many copies of String you need: 4\n",
    "###### 4 Copies of Hi are HiHiHiHi"
   ]
  },
  {
   "cell_type": "code",
   "execution_count": 1,
   "metadata": {},
   "outputs": [
    {
     "name": "stdout",
     "output_type": "stream",
     "text": [
      "Enter a string:Hi\n",
      "How many copies of String you need:4\n",
      "HiHiHiHi"
     ]
    }
   ],
   "source": [
    "string = input(\"Enter a string:\")\n",
    "n = int(input(\"How many copies of String you need:\"))\n",
    "for num in range(0,n):\n",
    "    print(string, end = \"\")"
   ]
  },
  {
   "cell_type": "code",
   "execution_count": null,
   "metadata": {},
   "outputs": [],
   "source": []
  },
  {
   "cell_type": "code",
   "execution_count": null,
   "metadata": {},
   "outputs": [],
   "source": []
  },
  {
   "cell_type": "code",
   "execution_count": null,
   "metadata": {},
   "outputs": [],
   "source": []
  },
  {
   "cell_type": "code",
   "execution_count": null,
   "metadata": {},
   "outputs": [],
   "source": []
  },
  {
   "cell_type": "markdown",
   "metadata": {},
   "source": [
    "## 6. Check if number is Even or Odd\n",
    "### Write a Python program to find whether a given number (accept from the user) is even or odd, print out an appropriate message to the user\n",
    "#### Program Console Output 1:\n",
    "##### Enter Number: 4\n",
    "###### 4 is Even\n",
    "#### Program Console Output 2:\n",
    "##### Enter Number: 9\n",
    "###### 9 is Odd"
   ]
  },
  {
   "cell_type": "code",
   "execution_count": 10,
   "metadata": {},
   "outputs": [
    {
     "name": "stdout",
     "output_type": "stream",
     "text": [
      "Enter Number:4\n",
      "4 is Even\n"
     ]
    }
   ],
   "source": [
    "int1 = int(input(\"Enter Number:\"))\n",
    "\n",
    "if int1 % 2 == 0:\n",
    "    print(f\"{int1} is Even\")\n",
    "else:\n",
    "    print(f\"{int1} is Odd\")\n"
   ]
  },
  {
   "cell_type": "code",
   "execution_count": 11,
   "metadata": {},
   "outputs": [
    {
     "name": "stdout",
     "output_type": "stream",
     "text": [
      "Enter Number:9\n",
      "9 is Odd\n"
     ]
    }
   ],
   "source": [
    "int1 = int(input(\"Enter Number:\"))\n",
    "\n",
    "if int1 % 2 == 0:\n",
    "    print(f\"{int1} is Even\")\n",
    "else:\n",
    "    print(f\"{int1} is Odd\")\n"
   ]
  },
  {
   "cell_type": "code",
   "execution_count": null,
   "metadata": {},
   "outputs": [],
   "source": []
  },
  {
   "cell_type": "code",
   "execution_count": null,
   "metadata": {},
   "outputs": [],
   "source": []
  },
  {
   "cell_type": "code",
   "execution_count": null,
   "metadata": {},
   "outputs": [],
   "source": []
  },
  {
   "cell_type": "markdown",
   "metadata": {},
   "source": [
    "## 7. Vowel Tester\n",
    "### Write a Python program to test whether a passed letter is a vowel or not\n",
    "#### Program Console Output 1:\n",
    "##### Enter a character: A\n",
    "###### Letter A is Vowel\n",
    "#### Program Console Output 2:\n",
    "##### Enter a character: e\n",
    "###### Letter e is Vowel\n",
    "#### Program Console Output 2:\n",
    "##### Enter a character: N\n",
    "###### Letter N is not Vowel"
   ]
  },
  {
   "cell_type": "code",
   "execution_count": 13,
   "metadata": {},
   "outputs": [
    {
     "name": "stdout",
     "output_type": "stream",
     "text": [
      "Enter a character:A\n",
      "Letter A is Vowel\n"
     ]
    }
   ],
   "source": [
    "vowel = input(\"Enter a character:\")\n",
    "if vowel =='a' or vowel =='A'or vowel =='a' or vowel =='E'or vowel =='e' or vowel =='I'or vowel =='i' or vowel =='O'or vowel =='o' or vowel =='U'or vowel =='u':\n",
    "    print(f\"Letter {vowel} is Vowel\")\n",
    "else:\n",
    "    print(f\"Letter {vowel} is not Vowel\")"
   ]
  },
  {
   "cell_type": "code",
   "execution_count": 14,
   "metadata": {},
   "outputs": [
    {
     "name": "stdout",
     "output_type": "stream",
     "text": [
      "Enter a character:e\n",
      "Letter e is Vowel\n"
     ]
    }
   ],
   "source": [
    "vowel = input(\"Enter a character:\")\n",
    "if vowel =='a' or vowel =='A'or vowel =='a' or vowel =='E'or vowel =='e' or vowel =='I'or vowel =='i' or vowel =='O'or vowel =='o' or vowel =='U'or vowel =='u':\n",
    "    print(f\"Letter {vowel} is Vowel\")\n",
    "else:\n",
    "    print(f\"Letter {vowel} is not Vowel\")"
   ]
  },
  {
   "cell_type": "code",
   "execution_count": 15,
   "metadata": {},
   "outputs": [
    {
     "name": "stdout",
     "output_type": "stream",
     "text": [
      "Enter a character:N\n",
      "Letter N is not Vowel\n"
     ]
    }
   ],
   "source": [
    "vowel = input(\"Enter a character:\")\n",
    "if vowel =='a' or vowel =='A'or vowel =='a' or vowel =='E'or vowel =='e' or vowel =='I'or vowel =='i' or vowel =='O'or vowel =='o' or vowel =='U'or vowel =='u':\n",
    "    print(f\"Letter {vowel} is Vowel\")\n",
    "else:\n",
    "    print(f\"Letter {vowel} is not Vowel\")"
   ]
  },
  {
   "cell_type": "code",
   "execution_count": null,
   "metadata": {},
   "outputs": [],
   "source": []
  },
  {
   "cell_type": "markdown",
   "metadata": {},
   "source": [
    "## 8. Triangle area\n",
    "### Write a Python program that will accept the base and height of a triangle and compute the area\n",
    "###### Reference:\n",
    "https://www.mathgoodies.com/lessons/vol1/area_triangle"
   ]
  },
  {
   "cell_type": "code",
   "execution_count": 16,
   "metadata": {},
   "outputs": [
    {
     "name": "stdout",
     "output_type": "stream",
     "text": [
      "Enter base of a triangle:3\n",
      "Enter height of a triangle:4\n",
      "Area of triangle is 6.0\n"
     ]
    }
   ],
   "source": [
    "base = float(input(\"Enter base of a triangle:\"))\n",
    "height = float(input(\"Enter height of a triangle:\"))\n",
    "AreaOfTri = base*height/2\n",
    "print(f\"Area of triangle is {AreaOfTri}\")"
   ]
  },
  {
   "cell_type": "code",
   "execution_count": null,
   "metadata": {},
   "outputs": [],
   "source": []
  },
  {
   "cell_type": "code",
   "execution_count": null,
   "metadata": {},
   "outputs": [],
   "source": []
  },
  {
   "cell_type": "code",
   "execution_count": null,
   "metadata": {},
   "outputs": [],
   "source": []
  },
  {
   "cell_type": "markdown",
   "metadata": {},
   "source": [
    "## 9. Calculate Interest\n",
    "### Write a Python program to compute the future value of a specified principal amount, rate of interest, and a number of years\n",
    "#### Program Console Sample 1:\n",
    "##### Please enter principal amount: 10000\n",
    "###### Please Enter Rate of interest in %: 0.1\n",
    "###### Enter number of years for investment: 5\n",
    "###### After 5 years your principal amount 10000 over an interest rate of 0.1 % will be 16105.1"
   ]
  },
  {
   "cell_type": "code",
   "execution_count": 5,
   "metadata": {},
   "outputs": [
    {
     "name": "stdout",
     "output_type": "stream",
     "text": [
      "Please enter principal amount:10000\n",
      "Please Enter Rate of interest in %:0.1\n",
      "Enter number of years for investment:5\n",
      "After 5 years your principle amount of 10000 over an interest rate of 0.1 % will be 16105.100000000006.\n"
     ]
    }
   ],
   "source": [
    "principleAmount = int(input(\"Please enter principal amount:\"))\n",
    "rateOfInterest = float(input(\"Please Enter Rate of interest in %:\"))\n",
    "noOfYears = int(input(\"Enter number of years for investment:\"))\n",
    "\n",
    "#FV = PV (1 + r)^n\n",
    "futureValue = principleAmount * (1 + rateOfInterest)**noOfYears\n",
    "print(f\"After {noOfYears} years your principle amount of {principleAmount} over an interest rate of {rateOfInterest} % will be {futureValue}.\")"
   ]
  },
  {
   "cell_type": "code",
   "execution_count": null,
   "metadata": {},
   "outputs": [],
   "source": []
  },
  {
   "cell_type": "code",
   "execution_count": null,
   "metadata": {},
   "outputs": [],
   "source": []
  },
  {
   "cell_type": "code",
   "execution_count": null,
   "metadata": {},
   "outputs": [],
   "source": []
  },
  {
   "cell_type": "code",
   "execution_count": null,
   "metadata": {},
   "outputs": [],
   "source": []
  },
  {
   "cell_type": "code",
   "execution_count": null,
   "metadata": {},
   "outputs": [],
   "source": []
  },
  {
   "cell_type": "markdown",
   "metadata": {},
   "source": [
    "## 10. Euclidean distance\n",
    "### write a Python program to compute the distance between the points (x1, y1) and (x2, y2).\n",
    "#### Program Console Sample 1:\n",
    "###### Enter Co-ordinate for x1: 2\n",
    "###### Enter Co-ordinate for x2: 4\n",
    "###### Enter Co-ordinate for y1: 4\n",
    "###### Enter Co-ordinate for y2: 4\n",
    "###### Distance between points (2, 4) and (4, 4) is 2"
   ]
  },
  {
   "cell_type": "markdown",
   "metadata": {},
   "source": [
    "###### Reference:\n",
    "https://en.wikipedia.org/wiki/Euclidean_distance"
   ]
  },
  {
   "cell_type": "code",
   "execution_count": null,
   "metadata": {},
   "outputs": [],
   "source": [
    "#D=√(x2−x1)^2+(y2−y1)^2"
   ]
  },
  {
   "cell_type": "code",
   "execution_count": 7,
   "metadata": {},
   "outputs": [
    {
     "name": "stdout",
     "output_type": "stream",
     "text": [
      "Enter Co-ordinate for x1:2\n",
      "Enter Co-ordinate for x2:4\n",
      "Enter Co-ordinate for y1:4\n",
      "Enter Co-ordinate for y2:4\n",
      "Distance between points (2, 4) and (4, 4) is 2\n"
     ]
    }
   ],
   "source": [
    "import math\n",
    "\n",
    "x1 = int(input(\"Enter Co-ordinate for x1:\"))\n",
    "x2 = int(input(\"Enter Co-ordinate for x2:\"))\n",
    "y1 = int(input(\"Enter Co-ordinate for y1:\"))\n",
    "y2 = int(input(\"Enter Co-ordinate for y2:\"))\n",
    "\n",
    "D = round(math.sqrt(((x2-x1)**2)+((y2-y1)**2)))\n",
    "print(f\"Distance between points ({x1}, {x2}) and ({y1}, {y2}) is {D}\")"
   ]
  },
  {
   "cell_type": "code",
   "execution_count": null,
   "metadata": {},
   "outputs": [],
   "source": []
  },
  {
   "cell_type": "code",
   "execution_count": null,
   "metadata": {},
   "outputs": [],
   "source": []
  },
  {
   "cell_type": "markdown",
   "metadata": {},
   "source": [
    "## 11. Feet to Centimeter Converter\n",
    "### Write a Python program to convert height in feet to centimetres.\n",
    "##### Program Console Sample 1:\n",
    "###### Enter Height in Feet: 5\n",
    "###### There are 152.4 Cm in 5 ft\n",
    "###### Reference:\n",
    "https://www.rapidtables.com/convert/length/feet-to-cm.html"
   ]
  },
  {
   "cell_type": "code",
   "execution_count": 10,
   "metadata": {},
   "outputs": [
    {
     "name": "stdout",
     "output_type": "stream",
     "text": [
      "Enter Height in feet:5\n",
      "There are 152.4 cm in 5 ft\n"
     ]
    }
   ],
   "source": [
    "feet = int(input(\"Enter Height in feet:\"))\n",
    "cm = feet * 30.48\n",
    "print(f\"There are {cm} cm in {feet} ft\")"
   ]
  },
  {
   "cell_type": "code",
   "execution_count": null,
   "metadata": {},
   "outputs": [],
   "source": []
  },
  {
   "cell_type": "code",
   "execution_count": null,
   "metadata": {},
   "outputs": [],
   "source": []
  },
  {
   "cell_type": "code",
   "execution_count": null,
   "metadata": {},
   "outputs": [],
   "source": []
  },
  {
   "cell_type": "markdown",
   "metadata": {},
   "source": [
    "## 12. BMI Calculator\n",
    "### Write a Python program to calculate body mass index\n",
    "##### Program Console Sample 1:\n",
    "###### Enter Height in Cm: 180\n",
    "###### Enter Weight in Kg: 75\n",
    "###### Your BMI is 23.15"
   ]
  },
  {
   "cell_type": "code",
   "execution_count": 12,
   "metadata": {},
   "outputs": [
    {
     "name": "stdout",
     "output_type": "stream",
     "text": [
      "Enter Height in Cm:180\n",
      "Enter weight in Kg:75\n",
      "Your BMI is 23\n"
     ]
    }
   ],
   "source": [
    "cm = int(input(\"Enter Height in Cm:\"))\n",
    "weight = int(input(\"Enter weight in Kg:\"))\n",
    "#BMI = kg/m2\n",
    "meter = cm/100\n",
    "BMI = weight/meter**2\n",
    "print(f\"Your BMI is {BMI}\")"
   ]
  },
  {
   "cell_type": "code",
   "execution_count": null,
   "metadata": {},
   "outputs": [],
   "source": []
  },
  {
   "cell_type": "code",
   "execution_count": null,
   "metadata": {},
   "outputs": [],
   "source": []
  },
  {
   "cell_type": "markdown",
   "metadata": {},
   "source": [
    "## 13. Sum of n Positive Integers\n",
    "### Write a python program to sum of the first n positive integers\n",
    "#### Program Console Sample 1:\n",
    "###### Enter value of n: 5\n",
    "###### Sum of n Positive integers till 5 is 15"
   ]
  },
  {
   "cell_type": "code",
   "execution_count": 20,
   "metadata": {},
   "outputs": [
    {
     "name": "stdout",
     "output_type": "stream",
     "text": [
      "Enter value of n:5\n",
      "Sum of n Positive integers till 5 is 15\n"
     ]
    }
   ],
   "source": [
    "n = int(input(\"Enter value of n:\"))\n",
    "\n",
    "total = int(n * (n+1)/2)\n",
    "print(f\"Sum of n Positive integers till {n} is {total}\")\n",
    "    "
   ]
  },
  {
   "cell_type": "code",
   "execution_count": null,
   "metadata": {},
   "outputs": [],
   "source": []
  },
  {
   "cell_type": "code",
   "execution_count": null,
   "metadata": {},
   "outputs": [],
   "source": []
  },
  {
   "cell_type": "markdown",
   "metadata": {},
   "source": [
    "## 14. Digits Sum of a Number\n",
    "### Write a Python program to calculate the sum of the digits in an integer\n",
    "#### Program Console Sample 1:\n",
    "##### Enter a number: 15\n",
    "###### Sum of 1 + 5 is 6\n",
    "#### Program Console Sample 2:\n",
    "##### Enter a number: 1234\n",
    "###### Sum of 1 + 2 + 3 + 4 is 10"
   ]
  },
  {
   "cell_type": "code",
   "execution_count": 26,
   "metadata": {},
   "outputs": [
    {
     "name": "stdout",
     "output_type": "stream",
     "text": [
      "Enter a number: 15\n",
      "The sum of digits of number is 6\n"
     ]
    }
   ],
   "source": [
    "\n",
    "num = input(\"Enter a number: \")\n",
    "\n",
    "sum = 0\n",
    "\n",
    "for i in num:\n",
    "    sum += int(i)\n",
    "\n",
    "print(\"The sum of digits of number is\",sum)"
   ]
  },
  {
   "cell_type": "code",
   "execution_count": 27,
   "metadata": {},
   "outputs": [
    {
     "name": "stdout",
     "output_type": "stream",
     "text": [
      "Enter a number: 1234\n",
      "The sum of digits of number is 10\n"
     ]
    }
   ],
   "source": [
    "\n",
    "num = input(\"Enter a number: \")\n",
    "\n",
    "sum = 0\n",
    "\n",
    "for i in num:\n",
    "    sum += int(i)\n",
    "\n",
    "print(\"The sum of digits of number is\",sum)"
   ]
  },
  {
   "cell_type": "code",
   "execution_count": null,
   "metadata": {},
   "outputs": [],
   "source": []
  },
  {
   "cell_type": "code",
   "execution_count": null,
   "metadata": {},
   "outputs": [],
   "source": []
  },
  {
   "cell_type": "code",
   "execution_count": null,
   "metadata": {},
   "outputs": [],
   "source": []
  },
  {
   "cell_type": "code",
   "execution_count": null,
   "metadata": {},
   "outputs": [],
   "source": []
  },
  {
   "cell_type": "code",
   "execution_count": null,
   "metadata": {},
   "outputs": [],
   "source": []
  },
  {
   "cell_type": "code",
   "execution_count": null,
   "metadata": {},
   "outputs": [],
   "source": []
  }
 ],
 "metadata": {
  "kernelspec": {
   "display_name": "Python 3",
   "language": "python",
   "name": "python3"
  },
  "language_info": {
   "codemirror_mode": {
    "name": "ipython",
    "version": 3
   },
   "file_extension": ".py",
   "mimetype": "text/x-python",
   "name": "python",
   "nbconvert_exporter": "python",
   "pygments_lexer": "ipython3",
   "version": "3.6.5"
  }
 },
 "nbformat": 4,
 "nbformat_minor": 2
}
